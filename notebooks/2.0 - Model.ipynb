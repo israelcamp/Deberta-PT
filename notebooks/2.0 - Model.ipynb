{
 "cells": [
  {
   "cell_type": "code",
   "execution_count": 10,
   "metadata": {},
   "outputs": [],
   "source": [
    "from transformers import LongformerTokenizerFast, LongformerForMaskedLM\n",
    "import multiprocessing\n",
    "\n",
    "model_name = \"allenai/longformer-base-4096\"\n",
    "tokenizer = LongformerTokenizerFast.from_pretrained(model_name)\n",
    "model = LongformerForMaskedLM.from_pretrained(model_name)\n",
    "\n",
    "num_proc = multiprocessing.cpu_count()\n",
    "\n",
    "model_max_lenght = tokenizer.max_model_input_sizes[model_name]\n"
   ]
  },
  {
   "cell_type": "code",
   "execution_count": null,
   "metadata": {},
   "outputs": [],
   "source": [
    "from transformers import LongformerTokenizerFast, DataCollatorForWholeWordMask, TextDataset\n",
    "\n",
    "tokenizer = LongformerTokenizerFast.from_pretrained('allenai/longformer-base-4096')\n",
    "data_collator = DataCollatorForWholeWordMask(tokenizer=tokenizer)\n",
    "\n",
    "file_path = \"exemplo.txt\"\n",
    "block_size = tokenizer.model_max_length\n",
    "\n",
    "dataset = TextDataset(tokenizer=tokenizer, file_path=file_path, block_size=block_size)\n",
    "\n",
    "# Criando os lotes de dados\n",
    "batch_size = 2\n",
    "dataloader = torch.utils.data.DataLoader(dataset, batch_size=batch_size, collate_fn=data_collator)\n",
    "\n",
    "for batch in dataloader:\n",
    "    # faz algo com o batch aqui"
   ]
  },
  {
   "cell_type": "code",
   "execution_count": 2,
   "metadata": {},
   "outputs": [],
   "source": [
    "def group_texts(examples):\n",
    "    tokenized_inputs = tokenizer(\n",
    "       examples[\"text\"], return_special_tokens_mask=True, truncation=True, max_length=tokenizer.model_max_lenght\n",
    "    )\n",
    "    return tokenized_inputs\n",
    "\n",
    "# preprocess dataset\n",
    "tokenized_datasets = raw_datasets.map(group_texts, batched=True, remove_columns=[\"text\"], num_proc=num_proc)\n",
    "tokenized_datasets.features"
   ]
  },
  {
   "cell_type": "code",
   "execution_count": 9,
   "metadata": {},
   "outputs": [
    {
     "data": {
      "text/plain": [
       "4096"
      ]
     },
     "execution_count": 9,
     "metadata": {},
     "output_type": "execute_result"
    }
   ],
   "source": [
    "tokenizer.max_model_input_sizes[model_name]"
   ]
  },
  {
   "cell_type": "code",
   "execution_count": null,
   "metadata": {},
   "outputs": [],
   "source": []
  }
 ],
 "metadata": {
  "kernelspec": {
   "display_name": "venv_longformer",
   "language": "python",
   "name": "python3"
  },
  "language_info": {
   "codemirror_mode": {
    "name": "ipython",
    "version": 3
   },
   "file_extension": ".py",
   "mimetype": "text/x-python",
   "name": "python",
   "nbconvert_exporter": "python",
   "pygments_lexer": "ipython3",
   "version": "3.10.10"
  },
  "orig_nbformat": 4
 },
 "nbformat": 4,
 "nbformat_minor": 2
}
