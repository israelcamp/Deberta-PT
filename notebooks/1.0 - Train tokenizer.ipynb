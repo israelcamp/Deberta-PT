{
 "cells": [
  {
   "cell_type": "code",
   "execution_count": 2,
   "metadata": {},
   "outputs": [],
   "source": [
    "from transformers import LongformerTokenizerFast\n",
    "from datasets import load_dataset\n",
    "import ftfy"
   ]
  },
  {
   "cell_type": "code",
   "execution_count": 3,
   "metadata": {},
   "outputs": [
    {
     "name": "stderr",
     "output_type": "stream",
     "text": [
      "Downloading (…)olve/main/vocab.json: 100%|██████████| 899k/899k [00:00<00:00, 3.51MB/s]\n",
      "Downloading (…)olve/main/merges.txt: 100%|██████████| 456k/456k [00:00<00:00, 1.32MB/s]\n",
      "Downloading (…)/main/tokenizer.json: 100%|██████████| 1.36M/1.36M [00:00<00:00, 11.3MB/s]\n",
      "Downloading (…)lve/main/config.json: 100%|██████████| 694/694 [00:00<00:00, 173kB/s]\n"
     ]
    }
   ],
   "source": [
    "tokenizer = LongformerTokenizerFast.from_pretrained(\"allenai/longformer-base-4096\")"
   ]
  },
  {
   "cell_type": "code",
   "execution_count": 5,
   "metadata": {},
   "outputs": [],
   "source": [
    "dataset = load_dataset(\"wikipedia\", language=\"pt\", date=\"20230401\",  beam_runner='DirectRunner')"
   ]
  },
  {
   "cell_type": "code",
   "execution_count": null,
   "metadata": {},
   "outputs": [],
   "source": [
    "def batch_iterator(n_samples=None):\n",
    "    for i, example in enumerate(dataset[\"train\"]):\n",
    "        if n_samples is not None and i > n_samples:\n",
    "            break\n",
    "        text = example[\"title\"] + \"\\n\" + example[\"text\"]\n",
    "        text = ftfy.fix_text(text)\n",
    "        yield text"
   ]
  },
  {
   "cell_type": "code",
   "execution_count": 8,
   "metadata": {},
   "outputs": [
    {
     "name": "stdout",
     "output_type": "stream",
     "text": [
      "\n",
      "\n",
      "\n"
     ]
    }
   ],
   "source": [
    "new_tokenizer = tokenizer.train_new_from_iterator(batch_iterator(), vocab_size=tokenizer.vocab_size)"
   ]
  },
  {
   "cell_type": "code",
   "execution_count": 12,
   "metadata": {},
   "outputs": [
    {
     "data": {
      "text/plain": [
       "('longformer-pt-tokenizer/tokenizer_config.json',\n",
       " 'longformer-pt-tokenizer/special_tokens_map.json',\n",
       " 'longformer-pt-tokenizer/vocab.json',\n",
       " 'longformer-pt-tokenizer/merges.txt',\n",
       " 'longformer-pt-tokenizer/added_tokens.json',\n",
       " 'longformer-pt-tokenizer/tokenizer.json')"
      ]
     },
     "execution_count": 12,
     "metadata": {},
     "output_type": "execute_result"
    }
   ],
   "source": [
    "new_tokenizer.save_pretrained(\"longformer-pt-tokenizer\")"
   ]
  }
 ],
 "metadata": {
  "kernelspec": {
   "display_name": "Python 3",
   "language": "python",
   "name": "python3"
  },
  "language_info": {
   "codemirror_mode": {
    "name": "ipython",
    "version": 3
   },
   "file_extension": ".py",
   "mimetype": "text/x-python",
   "name": "python",
   "nbconvert_exporter": "python",
   "pygments_lexer": "ipython3",
   "version": "3.9.6"
  },
  "orig_nbformat": 4
 },
 "nbformat": 4,
 "nbformat_minor": 2
}
