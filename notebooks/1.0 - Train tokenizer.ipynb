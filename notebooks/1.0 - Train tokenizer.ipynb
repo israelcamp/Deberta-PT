{
 "cells": [
  {
   "cell_type": "code",
   "execution_count": 18,
   "metadata": {},
   "outputs": [],
   "source": [
    "from transformers import LongformerTokenizerFast\n",
    "from datasets import load_dataset\n",
    "import ftfy\n",
    "from tqdm.auto import tqdm"
   ]
  },
  {
   "cell_type": "code",
   "execution_count": 16,
   "metadata": {},
   "outputs": [],
   "source": [
    "tokenizer = LongformerTokenizerFast.from_pretrained(\"allenai/longformer-base-4096\")"
   ]
  },
  {
   "cell_type": "code",
   "execution_count": 17,
   "metadata": {},
   "outputs": [
    {
     "name": "stderr",
     "output_type": "stream",
     "text": [
      "Found cached dataset imdb (/Users/israelcampiotti/.cache/huggingface/datasets/imdb/plain_text/1.0.0/d613c88cf8fa3bab83b4ded3713f1f74830d1100e171db75bbddb80b3345c9c0)\n"
     ]
    }
   ],
   "source": [
    "dataset = load_dataset(\"wikipedia\", language=\"pt\", date=\"20230401\",  beam_runner='DirectRunner')\n",
    "wiki = dataset.remove_columns([col for col in dataset.column_names if col != \"text\"])\n",
    "# dataset = load_dataset(\"imdb\", split=\"train\")"
   ]
  },
  {
   "cell_type": "code",
   "execution_count": 19,
   "metadata": {},
   "outputs": [],
   "source": [
    "# def batch_iterator(n_samples=None):\n",
    "#     for i, example in enumerate(dataset[\"train\"]):\n",
    "#         if n_samples is not None and i > n_samples:\n",
    "#             break\n",
    "#         text = example[\"title\"] + \"\\n\" + example[\"text\"]\n",
    "#         text = ftfy.fix_text(text)\n",
    "#         yield text\n",
    "def batch_iterator(batch_size=100):\n",
    "    for i in tqdm(range(0, len(dataset), batch_size)):\n",
    "        text = dataset[i : i + batch_size][\"text\"]\n",
    "        text = [ftfy.fix_text(t) for t in text]\n",
    "        yield text"
   ]
  },
  {
   "cell_type": "code",
   "execution_count": 20,
   "metadata": {},
   "outputs": [
    {
     "name": "stderr",
     "output_type": "stream",
     "text": [
      "100%|██████████| 250/250 [00:01<00:00, 146.87it/s]\n"
     ]
    },
    {
     "name": "stdout",
     "output_type": "stream",
     "text": [
      "\n",
      "\n",
      "\n"
     ]
    }
   ],
   "source": [
    "new_tokenizer = tokenizer.train_new_from_iterator(batch_iterator(), vocab_size=tokenizer.vocab_size)"
   ]
  },
  {
   "cell_type": "code",
   "execution_count": 21,
   "metadata": {},
   "outputs": [
    {
     "data": {
      "text/plain": [
       "('longformer-pt-tokenizer/tokenizer_config.json',\n",
       " 'longformer-pt-tokenizer/special_tokens_map.json',\n",
       " 'longformer-pt-tokenizer/vocab.json',\n",
       " 'longformer-pt-tokenizer/merges.txt',\n",
       " 'longformer-pt-tokenizer/added_tokens.json',\n",
       " 'longformer-pt-tokenizer/tokenizer.json')"
      ]
     },
     "execution_count": 21,
     "metadata": {},
     "output_type": "execute_result"
    }
   ],
   "source": [
    "new_tokenizer.save_pretrained(\"longformer-pt-tokenizer\")"
   ]
  },
  {
   "cell_type": "code",
   "execution_count": 22,
   "metadata": {},
   "outputs": [
    {
     "data": {
      "text/plain": [
       "1000"
      ]
     },
     "execution_count": 22,
     "metadata": {},
     "output_type": "execute_result"
    }
   ],
   "source": [
    "new_tokenizer.vocab_size"
   ]
  },
  {
   "cell_type": "code",
   "execution_count": null,
   "metadata": {},
   "outputs": [],
   "source": []
  }
 ],
 "metadata": {
  "kernelspec": {
   "display_name": "Python 3",
   "language": "python",
   "name": "python3"
  },
  "language_info": {
   "codemirror_mode": {
    "name": "ipython",
    "version": 3
   },
   "file_extension": ".py",
   "mimetype": "text/x-python",
   "name": "python",
   "nbconvert_exporter": "python",
   "pygments_lexer": "ipython3",
   "version": "3.9.6"
  },
  "orig_nbformat": 4
 },
 "nbformat": 4,
 "nbformat_minor": 2
}
