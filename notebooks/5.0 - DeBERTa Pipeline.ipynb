{
 "cells": [
  {
   "attachments": {},
   "cell_type": "markdown",
   "metadata": {},
   "source": [
    "## Prepare data "
   ]
  },
  {
   "attachments": {},
   "cell_type": "markdown",
   "metadata": {},
   "source": [
    "### Load dataset"
   ]
  },
  {
   "cell_type": "code",
   "execution_count": 1,
   "metadata": {},
   "outputs": [
    {
     "name": "stderr",
     "output_type": "stream",
     "text": [
      "c:\\Users\\Matheus\\Documents\\Git\\Longformer-PT\\venv_lg_former\\lib\\site-packages\\tqdm\\auto.py:21: TqdmWarning: IProgress not found. Please update jupyter and ipywidgets. See https://ipywidgets.readthedocs.io/en/stable/user_install.html\n",
      "  from .autonotebook import tqdm as notebook_tqdm\n",
      "Found cached dataset corpus-carolina (C:/Users/Matheus/.cache/huggingface/datasets/carolina-c4ai___corpus-carolina/carolina/1.2.0/60fe73ac1719891e34135322031692bf177e9323e830d620cf3304f535ee2693)\n",
      "100%|██████████| 1/1 [00:00<00:00,  1.77it/s]\n"
     ]
    }
   ],
   "source": [
    "from datasets import load_dataset\n",
    "\n",
    "dataset = load_dataset(\"carolina-c4ai/corpus-carolina\")"
   ]
  },
  {
   "attachments": {},
   "cell_type": "markdown",
   "metadata": {},
   "source": [
    "# Generate Sample"
   ]
  },
  {
   "cell_type": "code",
   "execution_count": 2,
   "metadata": {},
   "outputs": [
    {
     "name": "stderr",
     "output_type": "stream",
     "text": [
      "                                                                                           \r"
     ]
    }
   ],
   "source": [
    "sample = dataset['corpus'].train_test_split(test_size=100)['test']\n",
    "sample.save_to_disk('../data/carolina_sample_100')"
   ]
  },
  {
   "cell_type": "code",
   "execution_count": 3,
   "metadata": {},
   "outputs": [],
   "source": [
    "for text in sample['text']:\n",
    "    with open('../data/carolina_sample_100.txt', 'a', encoding=\"utf-8\") as f:\n",
    "        f.write(text + '\\n')"
   ]
  },
  {
   "attachments": {},
   "cell_type": "markdown",
   "metadata": {},
   "source": [
    "### Training Tokenizer"
   ]
  },
  {
   "cell_type": "code",
   "execution_count": 5,
   "metadata": {},
   "outputs": [],
   "source": [
    "import sentencepiece as spm\n",
    "import os\n",
    "\n",
    "tokenizer_path = '../models/tokenizer/deberta_pt_v2/'\n",
    "tokenizer_name = 'm'\n",
    "\n",
    "os.makedirs(tokenizer_path, exist_ok=True)\n",
    "\n",
    "spm.SentencePieceTrainer.train(input='../data/carolina_sample_100.txt', model_prefix=f'../models/tokenizer/deberta_pt_v2/{tokenizer_name}', vocab_size=1000, user_defined_symbols=['foo', 'bar'])"
   ]
  },
  {
   "attachments": {},
   "cell_type": "markdown",
   "metadata": {},
   "source": [
    "### Test Tokenizer"
   ]
  },
  {
   "cell_type": "code",
   "execution_count": 6,
   "metadata": {},
   "outputs": [],
   "source": [
    "import sys\n",
    "sys.path.append('../DeBERTa')\n",
    "\n",
    "from DeBERTa import deberta"
   ]
  },
  {
   "cell_type": "code",
   "execution_count": 11,
   "metadata": {},
   "outputs": [],
   "source": [
    "p,t=deberta.load_vocab(vocab_path=tokenizer_path, vocab_type='spm', pretrained_id='deberta-v3-base')\n",
    "tokenizer=deberta.tokenizers[t](p)"
   ]
  },
  {
   "cell_type": "code",
   "execution_count": 14,
   "metadata": {},
   "outputs": [
    {
     "data": {
      "text/plain": [
       "['▁Tre',\n",
       " 'in',\n",
       " 'amento',\n",
       " '▁de',\n",
       " '▁um',\n",
       " '▁p',\n",
       " 'equen',\n",
       " 'o',\n",
       " '▁model',\n",
       " 'o',\n",
       " '▁de',\n",
       " '▁lingua',\n",
       " 'gem',\n",
       " '▁p',\n",
       " 't',\n",
       " '-',\n",
       " 'br',\n",
       " '.']"
      ]
     },
     "execution_count": 14,
     "metadata": {},
     "output_type": "execute_result"
    }
   ],
   "source": [
    "tokenizer.tokenize('Treinamento de um pequeno modelo de linguagem pt-br.')"
   ]
  },
  {
   "attachments": {},
   "cell_type": "markdown",
   "metadata": {},
   "source": [
    "### prepare_data deberta"
   ]
  },
  {
   "cell_type": "code",
   "execution_count": null,
   "metadata": {},
   "outputs": [],
   "source": [
    "# coding: utf-8\n",
    "\n",
    "import argparse\n",
    "from tqdm import tqdm\n",
    "\n",
    "def tokenize_data(input, output=None, max_seq_length=512):\n",
    "  p,t=deberta.load_vocab(vocab_path=None, vocab_type='spm', pretrained_id='deberta-v3-base')\n",
    "  tokenizer=deberta.tokenizers[t](p)\n",
    "  if output is None:\n",
    "    output=input + '.spm'\n",
    "  all_tokens = []\n",
    "  with open(input, encoding = 'utf-8') as fs:\n",
    "    for l in tqdm(fs, ncols=80, desc='Loading'):\n",
    "      if len(l) > 0:\n",
    "        tokens = tokenizer.tokenize(l)\n",
    "      else:\n",
    "        tokens = []\n",
    "      all_tokens.extend(tokens)\n",
    "\n",
    "  print(f'Loaded {len(all_tokens)} tokens from {input}')\n",
    "  lines = 0\n",
    "  with open(output, 'w', encoding = 'utf-8') as wfs:\n",
    "    idx = 0\n",
    "    while idx < len(all_tokens):\n",
    "      wfs.write(' '.join(all_tokens[idx:idx+max_seq_length-2]) + '\\n')\n",
    "      idx += (max_seq_length - 2)\n",
    "      lines += 1\n",
    "\n",
    "  print(f'Saved {lines} lines to {output}')\n",
    "\n",
    "# parser = argparse.ArgumentParser()\n",
    "# parser.add_argument('-i', '--input', required=True, help='The input data path')\n",
    "# parser.add_argument('-o', '--output', default=None, help='The output data path')\n",
    "# parser.add_argument('--max_seq_length', type=int, default=512, help='Maxium sequence length of inputs')\n",
    "# args = parser.parse_args()\n",
    "# tokenize_data(args.input, args.output, args.max_seq_length)\n"
   ]
  }
 ],
 "metadata": {
  "kernelspec": {
   "display_name": "venv",
   "language": "python",
   "name": "python3"
  },
  "language_info": {
   "codemirror_mode": {
    "name": "ipython",
    "version": 3
   },
   "file_extension": ".py",
   "mimetype": "text/x-python",
   "name": "python",
   "nbconvert_exporter": "python",
   "pygments_lexer": "ipython3",
   "version": "3.10.9"
  },
  "orig_nbformat": 4
 },
 "nbformat": 4,
 "nbformat_minor": 2
}
