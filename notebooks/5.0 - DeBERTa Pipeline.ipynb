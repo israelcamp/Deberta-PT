{
 "cells": [
  {
   "attachments": {},
   "cell_type": "markdown",
   "metadata": {},
   "source": [
    "## Prepare data "
   ]
  },
  {
   "attachments": {},
   "cell_type": "markdown",
   "metadata": {},
   "source": [
    "### Load dataset"
   ]
  },
  {
   "cell_type": "code",
   "execution_count": 1,
   "metadata": {},
   "outputs": [
    {
     "name": "stderr",
     "output_type": "stream",
     "text": [
      "c:\\Users\\Matheus\\Documents\\Git\\Longformer-PT\\venv_lg_former\\lib\\site-packages\\tqdm\\auto.py:21: TqdmWarning: IProgress not found. Please update jupyter and ipywidgets. See https://ipywidgets.readthedocs.io/en/stable/user_install.html\n",
      "  from .autonotebook import tqdm as notebook_tqdm\n",
      "Found cached dataset corpus-carolina (C:/Users/Matheus/.cache/huggingface/datasets/carolina-c4ai___corpus-carolina/carolina/1.2.0/60fe73ac1719891e34135322031692bf177e9323e830d620cf3304f535ee2693)\n",
      "100%|██████████| 1/1 [00:00<00:00,  1.77it/s]\n"
     ]
    }
   ],
   "source": [
    "from datasets import load_dataset\n",
    "\n",
    "dataset = load_dataset(\"carolina-c4ai/corpus-carolina\")"
   ]
  },
  {
   "attachments": {},
   "cell_type": "markdown",
   "metadata": {},
   "source": [
    "# Generate Sample"
   ]
  },
  {
   "cell_type": "code",
   "execution_count": 2,
   "metadata": {},
   "outputs": [
    {
     "name": "stderr",
     "output_type": "stream",
     "text": [
      "                                                                                           \r"
     ]
    }
   ],
   "source": [
    "sample = dataset['corpus'].train_test_split(test_size=100)['test']\n",
    "sample.save_to_disk('../data/carolina_sample_100')"
   ]
  },
  {
   "cell_type": "code",
   "execution_count": 3,
   "metadata": {},
   "outputs": [],
   "source": [
    "for text in sample['text']:\n",
    "    with open('../data/carolina_sample_100.txt', 'a', encoding=\"utf-8\") as f:\n",
    "        f.write(text + '\\n')"
   ]
  },
  {
   "attachments": {},
   "cell_type": "markdown",
   "metadata": {},
   "source": [
    "### Training Tokenizer"
   ]
  },
  {
   "cell_type": "code",
   "execution_count": 1,
   "metadata": {},
   "outputs": [
    {
     "name": "stderr",
     "output_type": "stream",
     "text": [
      "sentencepiece_trainer.cc(77) LOG(INFO) Starts training with : \n",
      "trainer_spec {\n",
      "  input: ../data/carolina_sample_100.txt\n",
      "  input_format: \n",
      "  model_prefix: ../models/tokenizer/deberta_pt_v3/m\n",
      "  model_type: UNIGRAM\n",
      "  vocab_size: 1000\n",
      "  self_test_sample_size: 0\n",
      "  character_coverage: 0.9995\n",
      "  input_sentence_size: 0\n",
      "  shuffle_input_sentence: 1\n",
      "  seed_sentencepiece_size: 1000000\n",
      "  shrinking_factor: 0.75\n",
      "  max_sentence_length: 4192\n",
      "  num_threads: 16\n",
      "  num_sub_iterations: 2\n",
      "  max_sentencepiece_length: 16\n",
      "  split_by_unicode_script: 1\n",
      "  split_by_number: 1\n",
      "  split_by_whitespace: 1\n",
      "  split_digits: 0\n",
      "  pretokenization_delimiter: \n",
      "  treat_whitespace_as_suffix: 0\n",
      "  allow_whitespace_only_pieces: 0\n",
      "  required_chars: \n",
      "  byte_fallback: 0\n",
      "  vocabulary_output_piece_score: 1\n",
      "  train_extremely_large_corpus: 0\n",
      "  hard_vocab_limit: 1\n",
      "  use_all_vocab: 0\n",
      "  unk_id: 0\n",
      "  bos_id: 1\n",
      "  eos_id: 2\n",
      "  pad_id: -1\n",
      "  unk_piece: <unk>\n",
      "  bos_piece: <s>\n",
      "  eos_piece: </s>\n",
      "  pad_piece: <pad>\n",
      "  unk_surface:  ⁇ \n",
      "  enable_differential_privacy: 0\n",
      "  differential_privacy_noise_level: 0\n",
      "  differential_privacy_clipping_threshold: 0\n",
      "}\n",
      "normalizer_spec {\n",
      "  name: nmt_nfkc\n",
      "  add_dummy_prefix: 1\n",
      "  remove_extra_whitespaces: 1\n",
      "  escape_whitespaces: 1\n",
      "  normalization_rule_tsv: \n",
      "}\n",
      "denormalizer_spec {}\n",
      "trainer_interface.cc(351) LOG(INFO) SentenceIterator is not specified. Using MultiFileSentenceIterator.\n",
      "trainer_interface.cc(183) LOG(INFO) Loading corpus: ../data/carolina_sample_100.txt\n",
      "trainer_interface.cc(378) LOG(WARNING) Found too long line (14612 > 4192).\n",
      "trainer_interface.cc(380) LOG(WARNING) Too long lines are skipped in the training.\n",
      "trainer_interface.cc(381) LOG(WARNING) The maximum length can be changed with --max_sentence_length=<size> flag.\n",
      "trainer_interface.cc(407) LOG(INFO) Loaded all 264 sentences\n",
      "trainer_interface.cc(414) LOG(INFO) Skipped 36 too long sentences.\n",
      "trainer_interface.cc(423) LOG(INFO) Adding meta_piece: <unk>\n",
      "trainer_interface.cc(423) LOG(INFO) Adding meta_piece: <s>\n",
      "trainer_interface.cc(423) LOG(INFO) Adding meta_piece: </s>\n",
      "trainer_interface.cc(428) LOG(INFO) Normalizing sentences...\n",
      "trainer_interface.cc(537) LOG(INFO) all chars count=180535\n",
      "trainer_interface.cc(548) LOG(INFO) Done: 99.9501% characters are covered.\n",
      "trainer_interface.cc(558) LOG(INFO) Alphabet size=134\n",
      "trainer_interface.cc(559) LOG(INFO) Final character coverage=0.999501\n",
      "trainer_interface.cc(591) LOG(INFO) Done! preprocessed 264 sentences.\n",
      "unigram_model_trainer.cc(222) LOG(INFO) Making suffix array...\n",
      "unigram_model_trainer.cc(226) LOG(INFO) Extracting frequent sub strings... node_num=89333\n",
      "unigram_model_trainer.cc(274) LOG(INFO) Initialized 21632 seed sentencepieces\n",
      "trainer_interface.cc(597) LOG(INFO) Tokenizing input sentences with whitespace: 264\n",
      "trainer_interface.cc(608) LOG(INFO) Done! 10790\n",
      "unigram_model_trainer.cc(564) LOG(INFO) Using 10790 sentences for EM training\n",
      "unigram_model_trainer.cc(580) LOG(INFO) EM sub_iter=0 size=8434 obj=13.8068 num_tokens=24624 num_tokens/piece=2.91961\n",
      "unigram_model_trainer.cc(580) LOG(INFO) EM sub_iter=1 size=7521 obj=12.0368 num_tokens=24844 num_tokens/piece=3.30328\n",
      "unigram_model_trainer.cc(580) LOG(INFO) EM sub_iter=0 size=5635 obj=12.1572 num_tokens=26607 num_tokens/piece=4.72174\n",
      "unigram_model_trainer.cc(580) LOG(INFO) EM sub_iter=1 size=5630 obj=12.0337 num_tokens=26645 num_tokens/piece=4.73268\n",
      "unigram_model_trainer.cc(580) LOG(INFO) EM sub_iter=0 size=4222 obj=12.4441 num_tokens=29257 num_tokens/piece=6.92965\n",
      "unigram_model_trainer.cc(580) LOG(INFO) EM sub_iter=1 size=4222 obj=12.298 num_tokens=29263 num_tokens/piece=6.93108\n",
      "unigram_model_trainer.cc(580) LOG(INFO) EM sub_iter=0 size=3166 obj=12.8486 num_tokens=32293 num_tokens/piece=10.1999\n",
      "unigram_model_trainer.cc(580) LOG(INFO) EM sub_iter=1 size=3166 obj=12.6966 num_tokens=32294 num_tokens/piece=10.2003\n",
      "unigram_model_trainer.cc(580) LOG(INFO) EM sub_iter=0 size=2374 obj=13.3512 num_tokens=35569 num_tokens/piece=14.9827\n",
      "unigram_model_trainer.cc(580) LOG(INFO) EM sub_iter=1 size=2374 obj=13.2048 num_tokens=35571 num_tokens/piece=14.9836\n",
      "unigram_model_trainer.cc(580) LOG(INFO) EM sub_iter=0 size=1780 obj=13.9147 num_tokens=38917 num_tokens/piece=21.8635\n",
      "unigram_model_trainer.cc(580) LOG(INFO) EM sub_iter=1 size=1780 obj=13.7789 num_tokens=38925 num_tokens/piece=21.868\n",
      "unigram_model_trainer.cc(580) LOG(INFO) EM sub_iter=0 size=1335 obj=14.4432 num_tokens=42110 num_tokens/piece=31.5431\n",
      "unigram_model_trainer.cc(580) LOG(INFO) EM sub_iter=1 size=1335 obj=14.326 num_tokens=42127 num_tokens/piece=31.5558\n",
      "unigram_model_trainer.cc(580) LOG(INFO) EM sub_iter=0 size=1100 obj=14.7758 num_tokens=44190 num_tokens/piece=40.1727\n",
      "unigram_model_trainer.cc(580) LOG(INFO) EM sub_iter=1 size=1100 obj=14.6975 num_tokens=44192 num_tokens/piece=40.1745\n",
      "trainer_interface.cc(686) LOG(INFO) Saving model: ../models/tokenizer/deberta_pt_v3/m.model\n",
      "trainer_interface.cc(698) LOG(INFO) Saving vocabs: ../models/tokenizer/deberta_pt_v3/m.vocab\n"
     ]
    }
   ],
   "source": [
    "import sentencepiece as spm\n",
    "import os\n",
    "\n",
    "tokenizer_path = '../models/tokenizer/deberta_pt_v3/'\n",
    "tokenizer_name = 'm'\n",
    "\n",
    "os.makedirs(tokenizer_path, exist_ok=True)\n",
    "\n",
    "spm.SentencePieceTrainer.train(input='../data/carolina_sample_100.txt', model_prefix=f'../models/tokenizer/deberta_pt_v3/{tokenizer_name}', vocab_size=1000)"
   ]
  },
  {
   "cell_type": "code",
   "execution_count": 10,
   "metadata": {},
   "outputs": [],
   "source": [
    "import sys\n",
    "sys.path.append('../DeBERTa')\n",
    "\n",
    "from DeBERTa import deberta\n",
    "from DeBERTa.deberta.spm_tokenizer import SPMTokenizer"
   ]
  },
  {
   "cell_type": "code",
   "execution_count": 11,
   "metadata": {},
   "outputs": [],
   "source": [
    "tokenizer_path = '../models/tokenizer/deberta_pt_v3/'\n",
    "# p,t=deberta.load_vocab(vocab_path=tokenizer_path, vocab_type='spm', pretrained_id='deberta-v3-base')\n",
    "# tokenizer=deberta.tokenizers[t](p)\n",
    "tokenizer = SPMTokenizer(f'{tokenizer_path}m.model')"
   ]
  },
  {
   "cell_type": "code",
   "execution_count": 12,
   "metadata": {},
   "outputs": [],
   "source": [
    "from tqdm import tqdm\n",
    "_input = '../data/carolina_sample_100.txt'\n",
    "_output = '../data/carolina_sample_100_tokenized.txt'\n",
    "max_seq_length=512\n",
    "\n",
    "all_tokens = []\n",
    "with open(_input, encoding = 'utf-8') as fs:\n",
    "    for data in fs.readlines():\n",
    "        all_tokens.extend(tokenizer.tokenize(data))\n",
    "\n",
    "lines = 0\n",
    "with open(_output, 'w', encoding = 'utf-8') as wfs:\n",
    "    idx = 0\n",
    "    while idx < len(all_tokens):\n",
    "        wfs.write(' '.join(all_tokens[idx:idx+max_seq_length-2]) + '\\n')\n",
    "        idx += (max_seq_length - 2)\n",
    "        lines += 1"
   ]
  },
  {
   "cell_type": "code",
   "execution_count": 6,
   "metadata": {},
   "outputs": [
    {
     "data": {
      "text/plain": [
       "['▁CON', 'CE', 'ICA', 'O']"
      ]
     },
     "execution_count": 6,
     "metadata": {},
     "output_type": "execute_result"
    }
   ],
   "source": [
    "tokenizer.tokenize(\"CONCEICAO\")"
   ]
  },
  {
   "cell_type": "code",
   "execution_count": 8,
   "metadata": {},
   "outputs": [
    {
     "data": {
      "text/plain": [
       "'CONCEICAO'"
      ]
     },
     "execution_count": 8,
     "metadata": {},
     "output_type": "execute_result"
    }
   ],
   "source": [
    "tokenizer.decode(tokenizer.tokenize(\"CONCEICAO\"))"
   ]
  },
  {
   "attachments": {},
   "cell_type": "markdown",
   "metadata": {},
   "source": [
    "### Test Tokenizer"
   ]
  },
  {
   "cell_type": "code",
   "execution_count": 6,
   "metadata": {},
   "outputs": [],
   "source": [
    "import sys\n",
    "sys.path.append('../DeBERTa')\n",
    "\n",
    "from DeBERTa import deberta"
   ]
  },
  {
   "cell_type": "code",
   "execution_count": 11,
   "metadata": {},
   "outputs": [],
   "source": [
    "p,t=deberta.load_vocab(vocab_path=tokenizer_path, vocab_type='spm', pretrained_id='deberta-v3-base')\n",
    "tokenizer=deberta.tokenizers[t](p)"
   ]
  },
  {
   "cell_type": "code",
   "execution_count": 14,
   "metadata": {},
   "outputs": [
    {
     "data": {
      "text/plain": [
       "['▁Tre',\n",
       " 'in',\n",
       " 'amento',\n",
       " '▁de',\n",
       " '▁um',\n",
       " '▁p',\n",
       " 'equen',\n",
       " 'o',\n",
       " '▁model',\n",
       " 'o',\n",
       " '▁de',\n",
       " '▁lingua',\n",
       " 'gem',\n",
       " '▁p',\n",
       " 't',\n",
       " '-',\n",
       " 'br',\n",
       " '.']"
      ]
     },
     "execution_count": 14,
     "metadata": {},
     "output_type": "execute_result"
    }
   ],
   "source": [
    "tokenizer.tokenize('Treinamento de um pequeno modelo de linguagem pt-br.')"
   ]
  },
  {
   "attachments": {},
   "cell_type": "markdown",
   "metadata": {},
   "source": [
    "### prepare_data deberta"
   ]
  },
  {
   "cell_type": "code",
   "execution_count": null,
   "metadata": {},
   "outputs": [],
   "source": [
    "# coding: utf-8\n",
    "\n",
    "import argparse\n",
    "from tqdm import tqdm\n",
    "\n",
    "def tokenize_data(input, output=None, max_seq_length=512):\n",
    "  p,t=deberta.load_vocab(vocab_path=None, vocab_type='spm', pretrained_id='deberta-v3-base')\n",
    "  tokenizer=deberta.tokenizers[t](p)\n",
    "  if output is None:\n",
    "    output=input + '.spm'\n",
    "  all_tokens = []\n",
    "  with open(input, encoding = 'utf-8') as fs:\n",
    "    for l in tqdm(fs, ncols=80, desc='Loading'):\n",
    "      if len(l) > 0:\n",
    "        tokens = tokenizer.tokenize(l)\n",
    "      else:\n",
    "        tokens = []\n",
    "      all_tokens.extend(tokens)\n",
    "\n",
    "  print(f'Loaded {len(all_tokens)} tokens from {input}')\n",
    "  lines = 0\n",
    "  with open(output, 'w', encoding = 'utf-8') as wfs:\n",
    "    idx = 0\n",
    "    while idx < len(all_tokens):\n",
    "      wfs.write(' '.join(all_tokens[idx:idx+max_seq_length-2]) + '\\n')\n",
    "      idx += (max_seq_length - 2)\n",
    "      lines += 1\n",
    "\n",
    "  print(f'Saved {lines} lines to {output}')\n",
    "\n",
    "# parser = argparse.ArgumentParser()\n",
    "# parser.add_argument('-i', '--input', required=True, help='The input data path')\n",
    "# parser.add_argument('-o', '--output', default=None, help='The output data path')\n",
    "# parser.add_argument('--max_seq_length', type=int, default=512, help='Maxium sequence length of inputs')\n",
    "# args = parser.parse_args()\n",
    "# tokenize_data(args.input, args.output, args.max_seq_length)\n"
   ]
  }
 ],
 "metadata": {
  "kernelspec": {
   "display_name": "venv",
   "language": "python",
   "name": "python3"
  },
  "language_info": {
   "codemirror_mode": {
    "name": "ipython",
    "version": 3
   },
   "file_extension": ".py",
   "mimetype": "text/x-python",
   "name": "python",
   "nbconvert_exporter": "python",
   "pygments_lexer": "ipython3",
   "version": "3.10.6"
  },
  "orig_nbformat": 4
 },
 "nbformat": 4,
 "nbformat_minor": 2
}
